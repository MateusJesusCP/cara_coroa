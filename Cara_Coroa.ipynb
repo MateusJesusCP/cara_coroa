{
  "nbformat": 4,
  "nbformat_minor": 0,
  "metadata": {
    "colab": {
      "name": "Cara-Coroa",
      "provenance": [],
      "collapsed_sections": []
    },
    "kernelspec": {
      "name": "python3",
      "display_name": "Python 3"
    }
  },
  "cells": [
    {
      "cell_type": "code",
      "metadata": {
        "id": "JhpW6hZk421S"
      },
      "source": [
        "import random\n",
        "\n",
        "user_input = int(input('Insira o número de jogadas: '))\n",
        "lados_moeda = ['cara','coroa'] \n",
        "cara_coroa = [] \n",
        "for i in range(user_input):\n",
        "    jogadas = random.choice(lados_moeda)\n",
        "    cara_coroa.append(jogadas)\n",
        "print(' Quantidade Cara: ',cara_coroa.count('cara'))\n",
        "print('Quantidade Coroa: ',cara_coroa.count('coroa'))\n",
        "\n",
        "A = cara_coroa.count('coroa') + cara_coroa.count('cara') \n",
        "\n",
        "print('Total de jogadas :' , A)\n",
        "\n",
        "B = cara_coroa.count('cara') * 100\n",
        "\n",
        "C = B / A\n",
        "\n",
        "print('Porcentagem de cara:', \"%.1f\" % C)\n",
        "\n",
        "D = cara_coroa.count('coroa') * 100\n",
        "\n",
        "E = D/A\n",
        "\n",
        "print('Porcentagem de coroa:', \"%.1f\" % E)"
      ],
      "execution_count": null,
      "outputs": []
    }
  ]
}